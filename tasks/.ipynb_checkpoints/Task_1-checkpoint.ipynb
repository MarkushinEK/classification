{
 "cells": [
  {
   "cell_type": "markdown",
   "metadata": {},
   "source": [
    "# Задание 1\n",
    "\n",
    "[Свертка списка](https://ru.wikipedia.org/wiki/%D0%A1%D0%B2%D1%91%D1%80%D1%82%D0%BA%D0%B0_%D1%81%D0%BF%D0%B8%D1%81%D0%BA%D0%B0) -  это обобщенная операция над списком, c помощью которой можно преобразовать список в единое значение. Например, рассмотрим реализации свертки слева и свертки справа (левоассоциативную свертку и правоассоциативную свертку):"
   ]
  },
  {
   "cell_type": "code",
   "execution_count": 1,
   "metadata": {},
   "outputs": [],
   "source": [
    "def foldl(f, x0, lst):\n",
    "    if not lst:\n",
    "        return x0\n",
    "    return foldl(f, f(x0, lst[0]), lst[1:])\n",
    "\n",
    "def foldr(f, x0, lst):\n",
    "    if not lst:\n",
    "        return x0\n",
    "    return f(lst[0], foldr(f, x0, lst[1:]))"
   ]
  },
  {
   "cell_type": "code",
   "execution_count": 2,
   "metadata": {},
   "outputs": [
    {
     "data": {
      "text/plain": [
       "6"
      ]
     },
     "execution_count": 2,
     "metadata": {},
     "output_type": "execute_result"
    }
   ],
   "source": [
    "#сумма\n",
    "foldl(lambda x, y: x + y, 0, [1, 2, 3])"
   ]
  },
  {
   "cell_type": "code",
   "execution_count": 3,
   "metadata": {},
   "outputs": [
    {
     "data": {
      "text/plain": [
       "'123'"
      ]
     },
     "execution_count": 3,
     "metadata": {},
     "output_type": "execute_result"
    }
   ],
   "source": [
    "#конкатенация\n",
    "foldl(lambda x, y: '{}{}'.format(x, y), '', [1, 2, 3])"
   ]
  },
  {
   "cell_type": "code",
   "execution_count": 4,
   "metadata": {},
   "outputs": [
    {
     "data": {
      "text/plain": [
       "(0.16666666666666666, 1.5)"
      ]
     },
     "execution_count": 4,
     "metadata": {},
     "output_type": "execute_result"
    }
   ],
   "source": [
    "f = lambda x, y: x / y\n",
    "foldl(f, 1, [1, 2, 3]), \\\n",
    "foldr(f, 1, [1, 2, 3])"
   ]
  },
  {
   "cell_type": "markdown",
   "metadata": {},
   "source": [
    "Задача: реализовать foldl через foldr и наоборот. Вместо многоточий нужно вставить выражения, которые бы привели к нужному результату."
   ]
  },
  {
   "cell_type": "code",
   "execution_count": 5,
   "metadata": {},
   "outputs": [],
   "source": [
    "def foldl2(f, x0, lst):\n",
    "    return foldr(..., ..., lst)(...)"
   ]
  },
  {
   "cell_type": "code",
   "execution_count": 6,
   "metadata": {},
   "outputs": [],
   "source": [
    "def foldr2(f, x0, lst):\n",
    "    return foldl(..., ..., lst)(...)"
   ]
  },
  {
   "cell_type": "markdown",
   "metadata": {},
   "source": [
    "# Задание 2\n",
    "\n",
    "нужно написать функцию, которая принимает две строки и проверяет, входит ли хотя бы одна перестановка второй строки в первую. Например:\n",
    "\n",
    "> a = 'abcrotm'\n",
    "> \n",
    "> b = 'tro'\n",
    "\n",
    "функция def check_inv(a, b) вернет True, так как 'rot' содержится в 'abcrotm'. Нужно подумать как можно более оптимальный алгоритм и оценить его сложность. "
   ]
  },
  {
   "cell_type": "code",
   "execution_count": 11,
   "metadata": {},
   "outputs": [
    {
     "name": "stdout",
     "output_type": "stream",
     "text": [
      "True\n"
     ]
    }
   ],
   "source": [
    "def check_inv(a, b):\n",
    "    dict_b = dict()\n",
    "    for i in b:\n",
    "        if dict_b.get(i) == None:\n",
    "            dict_b[i] = 1\n",
    "        else:\n",
    "            dict_b[i] += 1\n",
    "    temp_b = dict_b.copy()\n",
    "    for i, char_a in enumerate(a):\n",
    "        if char_a in b and temp_b[char_a] != 0:\n",
    "            temp_b[char_a] -= 1\n",
    "            for j in range(i+1, len(a)):\n",
    "                if all(v == 0 for v in temp_b.values()):\n",
    "                    return True\n",
    "                elif a[j] in b and temp_b[a[j]] != 0:\n",
    "                    temp_b[a[j]] -= 1\n",
    "                else:\n",
    "                    temp_b = dict_b.copy()\n",
    "                    break\n",
    "    if all(v == 0 for v in temp_b.values()):\n",
    "        return True\n",
    "    else:\n",
    "        return False\n",
    "    \n",
    "a = 'edhsrswjwj'\n",
    "b = 'jrws'\n",
    "print(check_inv(a,b))\n"
   ]
  },
  {
   "cell_type": "markdown",
   "metadata": {},
   "source": [
    "# Задание 3\n",
    "\n",
    "Реализовать бинарное дерево (класс Tree), в нём методы __repr__, __str__, __iter__ (итерация только по листьям)."
   ]
  },
  {
   "cell_type": "code",
   "execution_count": 13,
   "metadata": {},
   "outputs": [
    {
     "name": "stdout",
     "output_type": "stream",
     "text": [
      "True\n",
      "Tree(0, Tree(1, Tree(3, Tree(5), Tree(6)), Tree(4)), Tree(2))\n",
      "Tree(0, Tree(1, Tree(3, Tree(5, None, None), Tree(6, None, None)), Tree(4, None, None)), Tree(2, None, None))\n"
     ]
    }
   ],
   "source": [
    "class Tree:\n",
    "    def __init__(self, value=None, left=None, right=None):\n",
    "        self.left = left\n",
    "        self.right = right\n",
    "        self.value = value\n",
    "        \n",
    "    def __iter__(self):\n",
    "        if self.left:\n",
    "            for item in self.left:\n",
    "                yield item\n",
    "        if self.right:\n",
    "            for item in self.right:\n",
    "                yield item\n",
    "        if self.left == None and self.right == None:\n",
    "            yield self.value\n",
    "    \n",
    "    def __str__(self):\n",
    "        s = self\n",
    "        if s.left == None and s.right == None:\n",
    "            return 'Tree(' + str(s.value) + ')'\n",
    "        else:\n",
    "            return 'Tree({}, {}, {})'.format(s.value, str(s.left), str(s.right))\n",
    "     \n",
    "    def __repr__(self):\n",
    "        return 'Tree({}, {}, {})'.format(self.value, repr(self.left), repr(self.right))\n",
    "    \n",
    "tree = Tree(0, Tree(1, Tree(3, Tree(5), Tree(6)), Tree(4)),                             \n",
    "               Tree(2))\n",
    "\n",
    "print(list(tree) == [5, 6, 4, 2])\n",
    "print(str(tree))\n",
    "print(repr(tree))"
   ]
  },
  {
   "cell_type": "markdown",
   "metadata": {},
   "source": [
    "# Задание 4\n",
    "\n",
    "Реализовать простейший калькулятор математических выражений:\n",
    "- только целые числа\n",
    "- **+**, **\\-**, **\\***, **\\**\n",
    "- скобки\n",
    "\n",
    "**Можно использовать регулярные выражения**"
   ]
  },
  {
   "cell_type": "code",
   "execution_count": 15,
   "metadata": {},
   "outputs": [
    {
     "data": {
      "text/plain": [
       "True"
      ]
     },
     "execution_count": 15,
     "metadata": {},
     "output_type": "execute_result"
    }
   ],
   "source": [
    "def toReversePolishNotation(expr):\n",
    "    expr = expr.replace('(', ' ( ').replace(')', ' ) ')\n",
    "    expr = expr.replace('+', ' + ').replace('-', ' - ')\n",
    "    expr = expr.replace('/', ' / ').replace('*', ' * ')\n",
    "    queue = expr.split()\n",
    "    res = list()\n",
    "    stack = list()\n",
    "    for sym in queue:\n",
    "        if sym.isdigit():\n",
    "            res.append(sym)\n",
    "        elif sym == '+' or sym == '-':\n",
    "            if stack and (stack[-1] == '+' or stack[-1] == '-' or stack[-1] == '*' or stack[-1] == '/'):\n",
    "                res.append(stack.pop())\n",
    "            stack.append(sym)\n",
    "        elif sym == '*' or sym == '/':\n",
    "            if stack and (stack[-1] == '*' or stack[-1] == '/'):\n",
    "                res.append(stack.pop())\n",
    "            stack.append(sym)                \n",
    "        elif sym == '(':\n",
    "            stack.append(sym)\n",
    "        elif sym == ')':\n",
    "            while stack[-1] != '(':\n",
    "                res.append(stack.pop())\n",
    "            stack.pop()\n",
    "    while stack:\n",
    "        res.append(stack.pop())\n",
    "    return res\n",
    "                \n",
    "        \n",
    "def calc(expression):\n",
    "    rpn = toReversePolishNotation(expression)\n",
    "    i = 0\n",
    "    while len(rpn) > 1:\n",
    "        if rpn[i].isdigit():\n",
    "            i += 1\n",
    "        else:\n",
    "            if rpn[i] == '+':\n",
    "                rpn[i-2] = int(rpn[i-2]) + int(rpn[i-1])\n",
    "            if rpn[i] == '-':\n",
    "                rpn[i-2] = int(rpn[i-2]) - int(rpn[i-1])\n",
    "            if rpn[i] == '*':\n",
    "                rpn[i-2] = int(rpn[i-2]) * int(rpn[i-1])\n",
    "            if rpn[i] == '/':\n",
    "                rpn[i-2] = int(rpn[i-2]) / int(rpn[i-1])            \n",
    "            del rpn[i-1], rpn[i-1]\n",
    "            i -= +1\n",
    "    return rpn[0]\n",
    "\n",
    "calc('2 * (15 - 3 * 4) - 2') == 4"
   ]
  },
  {
   "cell_type": "code",
   "execution_count": null,
   "metadata": {
    "collapsed": true
   },
   "outputs": [],
   "source": []
  }
 ],
 "metadata": {
  "kernelspec": {
   "display_name": "Python 3",
   "language": "python",
   "name": "python3"
  },
  "language_info": {
   "codemirror_mode": {
    "name": "ipython",
    "version": 3
   },
   "file_extension": ".py",
   "mimetype": "text/x-python",
   "name": "python",
   "nbconvert_exporter": "python",
   "pygments_lexer": "ipython3",
   "version": "3.6.4"
  }
 },
 "nbformat": 4,
 "nbformat_minor": 2
}
