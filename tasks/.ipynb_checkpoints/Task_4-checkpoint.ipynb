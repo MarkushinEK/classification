{
 "cells": [
  {
   "cell_type": "markdown",
   "metadata": {},
   "source": [
    "## Часть 1\n",
    "Напишите скрипт, который скачивает все данные прошедших президентских выборов для всех избирательных участков. \n",
    "\n",
    "Входная точка [по ссылке](http://www.vybory.izbirkom.ru/region/region/izbirkom?action=show&root=1&tvd=100100084849066&vrn=100100084849062&region=0&global=1&sub_region=0&prver=0&pronetvd=null&vibid=100100084849066&type=227). Затем нужно перейти на сайты региональных избирательных комиссий. Результаты нужно сохранить в  `cvs`-файл, `sqlite` базе данных или `parquet`-файле. В итоге должна получиться таблица с полями:\n",
    "- название региона\n",
    "- название ТИК\n",
    "- номер УИК\n",
    "- 20 стандартных полей из итогового протокола\n",
    "\n",
    "Скрипт должен быть в отдельном `*.py` файле или в отдельном `jupyter`-ноутбуке. "
   ]
  },
  {
   "cell_type": "markdown",
   "metadata": {},
   "source": [
    "### Часть 2\n",
    "Используя скаченные данные и `Pandas` (или `PySpark`) посчитайте:\n",
    "- явку (%) по всем регионам, результат отсортировать по убыванию\n",
    "- выберите произвольного кандидата и найдите тот избиратльный участок, на котором он получил наибольший результат  (%, учитывать участки на которых проголосовало больше 300 человек)\n",
    "- найдите регион, где разница между ТИК с наибольшей явкой и наименьшей максимальна\n",
    "- посчитайте дисперсию по явке для каждого региона (учитывать УИК)\n",
    "- для каждого кандидата посчитайте таблицу: результат (%, округленный до целого) - количество УИК, на которых кандидат получил данный результат"
   ]
  },
  {
   "cell_type": "code",
   "execution_count": 4,
   "metadata": {},
   "outputs": [],
   "source": [
    "import lxml.html\n",
    "import lxml.etree\n",
    "import requests\n",
    "import pandas as pd\n",
    "import re\n",
    "import numpy as np"
   ]
  },
  {
   "cell_type": "code",
   "execution_count": 5,
   "metadata": {},
   "outputs": [],
   "source": [
    "url = 'http://www.vybory.izbirkom.ru/region/region/izbirkom?action=show&root=1&tvd=100100084849066&vrn=100100084849062&region=0&global=1&sub_region=0&prver=0&pronetvd=null&vibid=100100084849066&type=227'"
   ]
  },
  {
   "cell_type": "code",
   "execution_count": 6,
   "metadata": {},
   "outputs": [],
   "source": [
    "response = requests.get(url)\n",
    "tree = lxml.html.fromstring(response.text)"
   ]
  },
  {
   "cell_type": "code",
   "execution_count": 7,
   "metadata": {},
   "outputs": [],
   "source": [
    "urles = tree.xpath('//table//tr//td//nobr/a/@href')\n",
    "\n",
    "cols = tree.xpath('//td[2]/nobr/text()')\n",
    "\n",
    "frames = []\n",
    "\n",
    "for url in urles:\n",
    "    response = requests.get(url)\n",
    "    region = lxml.html.fromstring(response.text)\n",
    "    region_name = region.xpath('//td[2]/text()')[0]\n",
    "    urles_com = region.xpath('//nobr/a/@href')\n",
    "    for url_com in urles_com:\n",
    "        response = requests.get(url_com)\n",
    "        commission = lxml.html.fromstring(response.text)\n",
    "        url_com = commission.xpath('//tr[2]/td/a/@href')[0]\n",
    "        response = requests.get(url_com)\n",
    "        commission = lxml.html.fromstring(response.text)\n",
    "        commission_name = commission.xpath('//table[3]/tr[2]/td[2]/text()')[0]\n",
    "        uiks_n = len(commission.xpath('//td[2]/div/table/tr[1]/td/nobr'))\n",
    "        values = commission.xpath('//div/table/tr/td/nobr/b/text()')\n",
    "        table = {col: values[uiks_n*i:uiks_n*(i+1)] for i, col in enumerate(cols)}\n",
    "        table['Номер УИК'] = np.array([i+1 for i in range(0, uiks_n)])\n",
    "        table['Регион'] = region_name\n",
    "        table['ТИК'] = commission_name\n",
    "        \n",
    "        frames.append(pd.DataFrame(table))\n"
   ]
  },
  {
   "cell_type": "code",
   "execution_count": 8,
   "metadata": {},
   "outputs": [],
   "source": [
    "df = pd.concat(frames)"
   ]
  },
  {
   "cell_type": "code",
   "execution_count": 9,
   "metadata": {},
   "outputs": [],
   "source": [
    "df.to_csv('election.csv', encoding='utf-8', index=False)"
   ]
  },
  {
   "cell_type": "code",
   "execution_count": 24,
   "metadata": {
    "collapsed": true
   },
   "outputs": [],
   "source": [
    "for region in df['Регион'].unique():\n",
    "    presence[region] = df[df['Регион'] == region][[m1_col, m2_col]].sum().sum() / df[df['Регион'] == region][n_col].sum()\n",
    "presence_df = pd.Series(presence)"
   ]
  },
  {
   "cell_type": "code",
   "execution_count": 36,
   "metadata": {
    "scrolled": true
   },
   "outputs": [
    {
     "data": {
      "text/plain": [
       "Республика Тыва                        0.936254\n",
       "Ямало-Ненецкий автономный округ        0.918721\n",
       "Кабардино-Балкарская Республика        0.916979\n",
       "Чеченская Республика                   0.915093\n",
       "Республика Северная Осетия - Алания    0.899370\n",
       "Республика Дагестан                    0.874435\n",
       "Карачаево-Черкесская Республика        0.873438\n",
       "Кемеровская область                    0.830756\n",
       "Чукотский автономный округ             0.822605\n",
       "Республика Ингушетия                   0.819594\n",
       "dtype: float64"
      ]
     },
     "execution_count": 36,
     "metadata": {},
     "output_type": "execute_result"
    }
   ],
   "source": [
    "presence_df.sort_values(ascending=False, inplace=True)\n",
    "presence_df[:10]"
   ]
  },
  {
   "cell_type": "code",
   "execution_count": 38,
   "metadata": {},
   "outputs": [
    {
     "name": "stdout",
     "output_type": "stream",
     "text": [
      "0 Бабурин Сергей Николаевич\n",
      "1 Грудинин Павел Николаевич\n",
      "2 Жириновский Владимир Вольфович\n",
      "3 Номер УИК\n",
      "4 Путин Владимир Владимирович\n",
      "5 Регион\n",
      "6 Собчак Ксения Анатольевна\n",
      "7 Сурайкин Максим Александрович\n",
      "8 ТИК\n",
      "9 Титов Борис Юрьевич\n",
      "10 Число бюллетеней в стационарных ящиках для голосования\n",
      "11 Число действительных избирательных бюллетеней\n",
      "12 Число избирателей, включенных в список избирателей \n",
      "13 Число избирательных бюллетеней в переносных ящиках для голосования\n",
      "14 Число избирательных бюллетеней, выданных в помещении для голосования в день голосования\n",
      "15 Число избирательных бюллетеней, выданных вне помещения для голосования в день голосования\n",
      "16 Число избирательных бюллетеней, выданных избирателям, проголосовавшим досрочно\n",
      "17 Число избирательных бюллетеней, не учтенных при получении \n",
      "18 Число избирательных бюллетеней, полученных участковой избирательной комиссией\n",
      "19 Число недействительных избирательных бюллетеней\n",
      "20 Число погашенных избирательных бюллетеней\n",
      "21 Число утраченных избирательных бюллетеней\n",
      "22 Явлинский Григорий Алексеевич\n"
     ]
    }
   ],
   "source": [
    "for i, col in enumerate(df.columns):\n",
    "    print(i, col)"
   ]
  },
  {
   "cell_type": "markdown",
   "metadata": {
    "collapsed": true
   },
   "source": [
    "Рассмотрим кандидата Бабурина Сергея Николаевича. Найдем тот избирательный участок, на котором он получил наибольший результат (%, учитывая только участки, на которых проголосовало больше 300 человек):"
   ]
  },
  {
   "cell_type": "code",
   "execution_count": 51,
   "metadata": {
    "collapsed": true
   },
   "outputs": [],
   "source": [
    "candidates = ['Бабурин Сергей Николаевич', 'Грудинин Павел Николаевич', 'Жириновский Владимир Вольфович', \n",
    "              'Путин Владимир Владимирович', 'Собчак Ксения Анатольевна', 'Сурайкин Максим Александрович', \n",
    "              'Титов Борис Юрьевич', 'Явлинский Григорий Алексеевич']\n",
    "candidate = 'Титов Борис Юрьевич'"
   ]
  },
  {
   "cell_type": "code",
   "execution_count": null,
   "metadata": {
    "collapsed": true
   },
   "outputs": [],
   "source": [
    "max(df[candidate]/df[candidates].sum(axis=1))"
   ]
  },
  {
   "cell_type": "code",
   "execution_count": 44,
   "metadata": {},
   "outputs": [
    {
     "data": {
      "text/html": [
       "<div>\n",
       "<style>\n",
       "    .dataframe thead tr:only-child th {\n",
       "        text-align: right;\n",
       "    }\n",
       "\n",
       "    .dataframe thead th {\n",
       "        text-align: left;\n",
       "    }\n",
       "\n",
       "    .dataframe tbody tr th {\n",
       "        vertical-align: top;\n",
       "    }\n",
       "</style>\n",
       "<table border=\"1\" class=\"dataframe\">\n",
       "  <thead>\n",
       "    <tr style=\"text-align: right;\">\n",
       "      <th></th>\n",
       "      <th>Бабурин Сергей Николаевич</th>\n",
       "      <th>Грудинин Павел Николаевич</th>\n",
       "      <th>Жириновский Владимир Вольфович</th>\n",
       "      <th>Путин Владимир Владимирович</th>\n",
       "      <th>Собчак Ксения Анатольевна</th>\n",
       "      <th>Сурайкин Максим Александрович</th>\n",
       "      <th>Титов Борис Юрьевич</th>\n",
       "      <th>Явлинский Григорий Алексеевич</th>\n",
       "    </tr>\n",
       "  </thead>\n",
       "  <tbody>\n",
       "    <tr>\n",
       "      <th>0</th>\n",
       "      <td>0</td>\n",
       "      <td>137</td>\n",
       "      <td>32</td>\n",
       "      <td>1977</td>\n",
       "      <td>14</td>\n",
       "      <td>0</td>\n",
       "      <td>1</td>\n",
       "      <td>5</td>\n",
       "    </tr>\n",
       "    <tr>\n",
       "      <th>1</th>\n",
       "      <td>15</td>\n",
       "      <td>86</td>\n",
       "      <td>65</td>\n",
       "      <td>2389</td>\n",
       "      <td>13</td>\n",
       "      <td>5</td>\n",
       "      <td>6</td>\n",
       "      <td>15</td>\n",
       "    </tr>\n",
       "    <tr>\n",
       "      <th>2</th>\n",
       "      <td>1</td>\n",
       "      <td>62</td>\n",
       "      <td>13</td>\n",
       "      <td>2645</td>\n",
       "      <td>6</td>\n",
       "      <td>3</td>\n",
       "      <td>4</td>\n",
       "      <td>0</td>\n",
       "    </tr>\n",
       "    <tr>\n",
       "      <th>3</th>\n",
       "      <td>5</td>\n",
       "      <td>288</td>\n",
       "      <td>12</td>\n",
       "      <td>1642</td>\n",
       "      <td>21</td>\n",
       "      <td>6</td>\n",
       "      <td>2</td>\n",
       "      <td>2</td>\n",
       "    </tr>\n",
       "    <tr>\n",
       "      <th>4</th>\n",
       "      <td>2</td>\n",
       "      <td>44</td>\n",
       "      <td>6</td>\n",
       "      <td>624</td>\n",
       "      <td>6</td>\n",
       "      <td>0</td>\n",
       "      <td>0</td>\n",
       "      <td>2</td>\n",
       "    </tr>\n",
       "  </tbody>\n",
       "</table>\n",
       "</div>"
      ],
      "text/plain": [
       "   Бабурин Сергей Николаевич  Грудинин Павел Николаевич  \\\n",
       "0                          0                        137   \n",
       "1                         15                         86   \n",
       "2                          1                         62   \n",
       "3                          5                        288   \n",
       "4                          2                         44   \n",
       "\n",
       "   Жириновский Владимир Вольфович  Путин Владимир Владимирович  \\\n",
       "0                              32                         1977   \n",
       "1                              65                         2389   \n",
       "2                              13                         2645   \n",
       "3                              12                         1642   \n",
       "4                               6                          624   \n",
       "\n",
       "   Собчак Ксения Анатольевна  Сурайкин Максим Александрович  \\\n",
       "0                         14                              0   \n",
       "1                         13                              5   \n",
       "2                          6                              3   \n",
       "3                         21                              6   \n",
       "4                          6                              0   \n",
       "\n",
       "   Титов Борис Юрьевич  Явлинский Григорий Алексеевич  \n",
       "0                    1                              5  \n",
       "1                    6                             15  \n",
       "2                    4                              0  \n",
       "3                    2                              2  \n",
       "4                    0                              2  "
      ]
     },
     "execution_count": 44,
     "metadata": {},
     "output_type": "execute_result"
    }
   ],
   "source": [
    "df[candidates].head()"
   ]
  },
  {
   "cell_type": "code",
   "execution_count": 48,
   "metadata": {},
   "outputs": [
    {
     "data": {
      "text/plain": [
       "0        0.000000\n",
       "1        0.005783\n",
       "2        0.000366\n",
       "3        0.002528\n",
       "4        0.002924\n",
       "5        0.000981\n",
       "6        0.004564\n",
       "7        0.004274\n",
       "8        0.004065\n",
       "9        0.006873\n",
       "10       0.015858\n",
       "11       0.034672\n",
       "12       0.013146\n",
       "13       0.003429\n",
       "14       0.007519\n",
       "15       0.002381\n",
       "16       0.009434\n",
       "17       0.000000\n",
       "18       0.008939\n",
       "19       0.002549\n",
       "20       0.006887\n",
       "21       0.004535\n",
       "22       0.004306\n",
       "23       0.006502\n",
       "24       0.007353\n",
       "25       0.008696\n",
       "26       0.000000\n",
       "27       0.022876\n",
       "28       0.036731\n",
       "29       0.009259\n",
       "           ...   \n",
       "97265    0.003724\n",
       "97266    0.001586\n",
       "97267    0.001730\n",
       "97268    0.003844\n",
       "97269    0.003384\n",
       "97270    0.004008\n",
       "97271    0.005802\n",
       "97272    0.000361\n",
       "97273    0.009662\n",
       "97274    0.002162\n",
       "97275    0.003096\n",
       "97276    0.003388\n",
       "97277    0.006006\n",
       "97278    0.002625\n",
       "97279    0.000000\n",
       "97280    0.002053\n",
       "97281    0.001805\n",
       "97282    0.002103\n",
       "97283    0.000914\n",
       "97284    0.001753\n",
       "97285    0.000821\n",
       "97286    0.000000\n",
       "97287    0.001741\n",
       "97288    0.000812\n",
       "97289    0.000650\n",
       "97290    0.000000\n",
       "97291    0.000000\n",
       "97292    0.000346\n",
       "97293    0.000000\n",
       "97294    0.000000\n",
       "Length: 97295, dtype: float64"
      ]
     },
     "execution_count": 48,
     "metadata": {},
     "output_type": "execute_result"
    }
   ],
   "source": [
    "df[df[candidate] > 300][candidate]/df[candidates].sum(axis=1)"
   ]
  },
  {
   "cell_type": "code",
   "execution_count": 52,
   "metadata": {},
   "outputs": [
    {
     "data": {
      "text/html": [
       "<div>\n",
       "<style>\n",
       "    .dataframe thead tr:only-child th {\n",
       "        text-align: right;\n",
       "    }\n",
       "\n",
       "    .dataframe thead th {\n",
       "        text-align: left;\n",
       "    }\n",
       "\n",
       "    .dataframe tbody tr th {\n",
       "        vertical-align: top;\n",
       "    }\n",
       "</style>\n",
       "<table border=\"1\" class=\"dataframe\">\n",
       "  <thead>\n",
       "    <tr style=\"text-align: right;\">\n",
       "      <th></th>\n",
       "      <th>Бабурин Сергей Николаевич</th>\n",
       "      <th>Грудинин Павел Николаевич</th>\n",
       "      <th>Жириновский Владимир Вольфович</th>\n",
       "      <th>Номер УИК</th>\n",
       "      <th>Путин Владимир Владимирович</th>\n",
       "      <th>Регион</th>\n",
       "      <th>Собчак Ксения Анатольевна</th>\n",
       "      <th>Сурайкин Максим Александрович</th>\n",
       "      <th>ТИК</th>\n",
       "      <th>Титов Борис Юрьевич</th>\n",
       "      <th>...</th>\n",
       "      <th>Число избирательных бюллетеней в переносных ящиках для голосования</th>\n",
       "      <th>Число избирательных бюллетеней, выданных в помещении для голосования в день голосования</th>\n",
       "      <th>Число избирательных бюллетеней, выданных вне помещения для голосования в день голосования</th>\n",
       "      <th>Число избирательных бюллетеней, выданных избирателям, проголосовавшим досрочно</th>\n",
       "      <th>Число избирательных бюллетеней, не учтенных при получении</th>\n",
       "      <th>Число избирательных бюллетеней, полученных участковой избирательной комиссией</th>\n",
       "      <th>Число недействительных избирательных бюллетеней</th>\n",
       "      <th>Число погашенных избирательных бюллетеней</th>\n",
       "      <th>Число утраченных избирательных бюллетеней</th>\n",
       "      <th>Явлинский Григорий Алексеевич</th>\n",
       "    </tr>\n",
       "  </thead>\n",
       "  <tbody>\n",
       "    <tr>\n",
       "      <th>6676</th>\n",
       "      <td>0</td>\n",
       "      <td>14</td>\n",
       "      <td>0</td>\n",
       "      <td>31</td>\n",
       "      <td>1376</td>\n",
       "      <td>Республика Дагестан</td>\n",
       "      <td>0</td>\n",
       "      <td>0</td>\n",
       "      <td>Шамильская</td>\n",
       "      <td>330</td>\n",
       "      <td>...</td>\n",
       "      <td>271</td>\n",
       "      <td>1450</td>\n",
       "      <td>271</td>\n",
       "      <td>0</td>\n",
       "      <td>0</td>\n",
       "      <td>1784</td>\n",
       "      <td>1</td>\n",
       "      <td>63</td>\n",
       "      <td>0</td>\n",
       "      <td>0</td>\n",
       "    </tr>\n",
       "  </tbody>\n",
       "</table>\n",
       "<p>1 rows × 23 columns</p>\n",
       "</div>"
      ],
      "text/plain": [
       "      Бабурин Сергей Николаевич  Грудинин Павел Николаевич  \\\n",
       "6676                          0                         14   \n",
       "\n",
       "      Жириновский Владимир Вольфович  Номер УИК  Путин Владимир Владимирович  \\\n",
       "6676                               0         31                         1376   \n",
       "\n",
       "                   Регион  Собчак Ксения Анатольевна  \\\n",
       "6676  Республика Дагестан                          0   \n",
       "\n",
       "      Сурайкин Максим Александрович         ТИК  Титов Борис Юрьевич  \\\n",
       "6676                              0  Шамильская                  330   \n",
       "\n",
       "                  ...                \\\n",
       "6676              ...                 \n",
       "\n",
       "      Число избирательных бюллетеней в переносных ящиках для голосования  \\\n",
       "6676                                                271                    \n",
       "\n",
       "      Число избирательных бюллетеней, выданных в помещении для голосования в день голосования  \\\n",
       "6676                                               1450                                         \n",
       "\n",
       "      Число избирательных бюллетеней, выданных вне помещения для голосования в день голосования  \\\n",
       "6676                                                271                                           \n",
       "\n",
       "      Число избирательных бюллетеней, выданных избирателям, проголосовавшим досрочно  \\\n",
       "6676                                                  0                                \n",
       "\n",
       "      Число избирательных бюллетеней, не учтенных при получении   \\\n",
       "6676                                                  0            \n",
       "\n",
       "      Число избирательных бюллетеней, полученных участковой избирательной комиссией  \\\n",
       "6676                                               1784                               \n",
       "\n",
       "      Число недействительных избирательных бюллетеней  \\\n",
       "6676                                                1   \n",
       "\n",
       "      Число погашенных избирательных бюллетеней  \\\n",
       "6676                                         63   \n",
       "\n",
       "      Число утраченных избирательных бюллетеней  Явлинский Григорий Алексеевич  \n",
       "6676                                          0                              0  \n",
       "\n",
       "[1 rows x 23 columns]"
      ]
     },
     "execution_count": 52,
     "metadata": {},
     "output_type": "execute_result"
    }
   ],
   "source": [
    "df[df[candidate] > 300]"
   ]
  },
  {
   "cell_type": "code",
   "execution_count": null,
   "metadata": {
    "collapsed": true
   },
   "outputs": [],
   "source": []
  }
 ],
 "metadata": {
  "kernelspec": {
   "display_name": "Python 3",
   "language": "python",
   "name": "python3"
  },
  "language_info": {
   "codemirror_mode": {
    "name": "ipython",
    "version": 3
   },
   "file_extension": ".py",
   "mimetype": "text/x-python",
   "name": "python",
   "nbconvert_exporter": "python",
   "pygments_lexer": "ipython3",
   "version": "3.6.4"
  }
 },
 "nbformat": 4,
 "nbformat_minor": 2
}
